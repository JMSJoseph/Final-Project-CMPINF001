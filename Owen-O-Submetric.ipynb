{
 "cells": [
  {
   "cell_type": "markdown",
   "id": "81c9b2fa",
   "metadata": {},
   "source": [
    "Introduction: https://data.wprdc.org/dataset/f669d677-c9e2-4d2f-b16f-c9ab5a4f3d10/resource/8f79a5b6-14e0-422d-8a7e-abcb78f85093/download/mva_alleghpittspa_rollout_dec21.pdf\n",
    "The market value of housing will help us determine what is the best neighborhood in Pittsburgh.\n",
    "\n",
    "Metric: Market Value Analysis (MVA)\n",
    "\n",
    "The metric known as MVA, or Market Value Analysis, is a tool that is used to provide a detailed examination of communities and their housing market value. Housing is divided into clusters labeled A-J based on the median sales prices of units in the certain block group.\n",
    "\n",
    "We will look at which neighborhoods in Pittsburgh generally have the nicest, or most desirable housing, based on the median sales prices of the properties in the area. For the most part, the housing categorized with the letter A will be some of the best housing in the city, meaning that it is, for an assortment or reasons, the most desirable for homeowners.\n",
    "\n",
    "Data: https://data.wprdc.org/dataset/market-value-analysis-2021/resource/d81c8067-7054-47ef-bcbb-219a290f0016\n",
    "This data shows the median property value for neighborhoods labeled A-J, there is also a map of each neighborhood marked based on the median labeled by color, so it is clear to see which neighborhoods of Pittsburgh are nicer and more desirable than others."
   ]
  }
 ],
 "metadata": {
  "kernelspec": {
   "display_name": "Python 3 (ipykernel)",
   "language": "python",
   "name": "python3"
  },
  "language_info": {
   "codemirror_mode": {
    "name": "ipython",
    "version": 3
   },
   "file_extension": ".py",
   "mimetype": "text/x-python",
   "name": "python",
   "nbconvert_exporter": "python",
   "pygments_lexer": "ipython3",
   "version": "3.11.1"
  }
 },
 "nbformat": 4,
 "nbformat_minor": 5
}
