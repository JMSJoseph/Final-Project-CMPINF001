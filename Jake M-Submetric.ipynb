{
 "cells": [
  {
   "cell_type": "markdown",
   "metadata": {},
   "source": [
    "Introduction: https://www.alleghenycounty.us/uploadedFiles/Allegheny_Home/Health_Department/Resources/Data_and_Reporting/Air_Quality_Reports/2021_AQ_Annual_Review.pdf\n",
    "<br/><br/> The best air quality will be used to help determine the best neighbourhood in Pittsburgh. \n",
    "\n",
    "Air quality is determined by the amount of possibly dangerous chemicals and/or pollutants found in each measured region of Pittsburgh. The sensors are located in each township of\n",
    "Alleghany county, so using the sensors for each general area will be applied to the neighbourhoods that are contained within these townships. \n",
    "\n",
    "Air pollution is caused by human activity that creates harmful chemicals for humans to breathe. Whether it be industry, open burning (outdoor grilling, bonfires, etc), \n",
    "high-motor-traffic areas, regions will be judged based on how much these activities and operations effect the air quality. Air quality can also be changed by the \n",
    "amount of air circulation each region has, this would be affected by population density (large buildings, clusters).\n",
    "\n",
    "The effects of poor air quality can be severe, it can lead to irritation of the sensitive areas(throat, nose, eyes, lungs); it can lead to cardiovascular and respitory illnessess:\n",
    "asthma, heart disease, and emphysema; and in severe cases even cancer: lung cancer, liver cancer.\n",
    "\n",
    "Analysis:\n",
    "From the data below, several areas can be ruled out for being considered the 'best' neighborhood. Firstly Liberty is by far the worst neighborhood for air quality, going over \n",
    "the federal standards for the 24 hr monitoring by close to 20 ug/m^3 and was just under the standard for the annual monitoring. Secondly, Lawrenceville shows the second \n",
    "highest 24 hr PM2.5 measurments at 46.7 ug/m^3. These neighborhoods and their PM2.5 levels confirm the hypothesis that high motor traffic and industry directly correlate\n",
    "to the level of air pollution. Also, population density is an applicable statistic in this case due to the higher densities in both of listed neighborhoods as compared to\n",
    "surrounding regions. The best neighborhood that can be derived from the given metric seems to be South Fayette, with the lowest measurements in both 24 hr and annual PM2.5 \n",
    "measurements(24hr: 23.2 ug/m^3, Annual: 7.8 ug/m^3).\n",
    "\n",

    "Conclusion:\n",
    "In conclusion, we can see, based on the air quality metric, that South Fayette Township is the best neighborhood to live in. While the sensors may not specify other neighborhoods \n",
    "surrounding this region, we can assume that these areas share a similar air quality. These regions would include: Sterling Ridge, The Berkshires, Newbury, Forest Ridge, Hunting Ridge, \n",
    "Hickory Heights, Pinnacle Point, Springhouse, Willowbrook, and Estates of Lion Ridge. South Fayette is also a more suburban area, while still being in Alleghany County. This proves\n",
    "that population density is also important to predicting air quality."
   ]
  },
  {
   "cell_type": "markdown",
   "metadata": {},
   "source": [
    "**Data:** https://www.alleghenycounty.us/uploadedFiles/Allegheny_Home/Health_Department/Resources/Data_and_Reporting/Air_Quality_Reports/2021-data-summary.pdf <br/><br/>\n",
    "The monitor results below show the concentration of PM2.5 (particle matter above 2.5 micro meters) within the air of each region."
   ]
  },
  {
   "cell_type": "markdown",
   "metadata": {},
   "source": [
    "**Filter based monitors (Annual), Standard = 12 ug/m^3**"
   ]
  },
  {
   "cell_type": "markdown",
   "metadata": {},
   "source": [
    "|Township      |   Measurment |\n",
    "|--------------|--------------|\n",
    "|Liberty       |  11.8 ug/m^3 | \n",
    "|North Braddock|  10.7 ug/m^3 |\n",
    "|Lawrencville  |  9.8  ug/m^3 |\n",
    "|Clairton      |  9.2  ug/m^3 |\n",
    "|Harrison      |  8.2  ug/m^3 |\n",
    "|South Fayette |  7.8  ug/m^3 |"
   ]
  },
  {
   "cell_type": "markdown",
   "metadata": {},
   "source": [
    "**Filter based monitors (24-hr), Standard = 35 ug/m^3**"
   ]
  },
  {
   "cell_type": "markdown",
   "metadata": {},
   "source": [
    "|Township      |  Measurment  |\n",
    "|--------------|--------------|\n",
    "|Liberty       |  51.5 ug/m^3 | \n",
    "|North Braddock|  29.2 ug/m^3 |\n",
    "|Lawrencville  |  46.7 ug/m^3 |\n",
    "|Clairton      |  20.7 ug/m^3 |\n",
    "|Harrison      |  23.7 ug/m^3 |\n",
    "|South Fayette |  23.2 ug/m^3 |"
   ]
  },
  {
   "cell_type": "code",
   "execution_count": null,
   "metadata": {},
   "outputs": [],
   "source": []
  }
 ],
 "metadata": {
  "kernelspec": {
   "display_name": "Python 3",
   "language": "python",
   "name": "python3"
  },
  "language_info": {
   "codemirror_mode": {
    "name": "ipython",
    "version": 3
   },
   "file_extension": ".py",
   "mimetype": "text/x-python",
   "name": "python",
   "nbconvert_exporter": "python",
   "pygments_lexer": "ipython3",
   "version": "3.8.3"
  }
 },
 "nbformat": 4,
 "nbformat_minor": 4
}
