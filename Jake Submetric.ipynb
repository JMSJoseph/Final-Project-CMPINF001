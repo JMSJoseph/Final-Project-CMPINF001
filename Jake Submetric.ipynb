{
 "cells": [
  {
   "cell_type": "markdown",
   "metadata": {},
   "source": [
    "Introduction: https://www.alleghenycounty.us/uploadedFiles/Allegheny_Home/Health_Department/Resources/Data_and_Reporting/Air_Quality_Reports/2021_AQ_Annual_Review.pdf\n",
    "<br/><br/> The best air quality will be used to help determine the safest neighbourhood in Pittsburgh. \n",
    "\n",
    "Air quality is determined by the amount of possibly dangerous chemicals and/or pollutants found in each measured region of Pittsburgh. The sensors are located in each township of\n",
    "Alleghany county.\n",
    "\n",
    "Air pollution is caused by human activity that creates harmful chemicals for humans to breathe. Whether it be industry, open burning (outdoor grilling, bonfires, etc), \n",
    "high-motor-traffic areas. Regions will be judged based on how much these activities and operations effect the air quality. Air quality can also be changed by the \n",
    "amount of air circulation each region has, this would be affected by population density (large buildings, clusters).\n",
    "\n",
    "The effects of poor air quality can be severe, it can lead to irritation of the sensitive areas(throat, nose, eyes, lungs); it can lead to cardiovascular and respitory illnessess:\n",
    "asthma, heart disease, and emphysema; and in severe cases even cancer: lung cancer, liver cancer.\n",
    "\n",
    "Analysis and Conclusion:\n",
    "<br/><br/>From the data shown below, we can see that areas further from the city have better air quality. This is not a suprise, due to the lack of industrial, commercial, and other activities that create air pollutants. These areas are also much less densly populated, this shows that our assumptions about air flow are also applicable. We can conclude that the best air quality in Alleghany county is in census tract 4011, Harrison Township, making it the safest neighborhood in Alleghany County/Pittsburgh. "
   ]
  },
  {
   "cell_type": "markdown",
   "metadata": {},
   "source": [
    "**Data:** https://www.alleghenycounty.us/uploadedFiles/Allegheny_Home/Health_Department/Resources/Data_and_Reporting/Air_Quality_Reports/2021-data-summary.pdf <br/><br/>\n",
    "The monitor results below show the concentration of PM2.5 (particle matter above 2.5 micro meters) within the air of each region."
   ]
  },
  {
   "cell_type": "markdown",
   "metadata": {},
   "source": [
    "**PM2.5 By Town in Alleghany County**"
   ]
  },
  {
   "cell_type": "code",
   "execution_count": 6,
   "metadata": {},
   "outputs": [
    {
     "data": {
      "text/html": [
       "<div>\n",
       "<style scoped>\n",
       "    .dataframe tbody tr th:only-of-type {\n",
       "        vertical-align: middle;\n",
       "    }\n",
       "\n",
       "    .dataframe tbody tr th {\n",
       "        vertical-align: top;\n",
       "    }\n",
       "\n",
       "    .dataframe thead th {\n",
       "        text-align: right;\n",
       "    }\n",
       "</style>\n",
       "<table border=\"1\" class=\"dataframe\">\n",
       "  <thead>\n",
       "    <tr style=\"text-align: right;\">\n",
       "      <th></th>\n",
       "      <th>CensusTract</th>\n",
       "      <th>PM25</th>\n",
       "    </tr>\n",
       "  </thead>\n",
       "  <tbody>\n",
       "    <tr>\n",
       "      <th>0</th>\n",
       "      <td>401100</td>\n",
       "      <td>11.25</td>\n",
       "    </tr>\n",
       "    <tr>\n",
       "      <th>1</th>\n",
       "      <td>406000</td>\n",
       "      <td>11.31</td>\n",
       "    </tr>\n",
       "    <tr>\n",
       "      <th>2</th>\n",
       "      <td>401200</td>\n",
       "      <td>11.36</td>\n",
       "    </tr>\n",
       "    <tr>\n",
       "      <th>3</th>\n",
       "      <td>401300</td>\n",
       "      <td>11.41</td>\n",
       "    </tr>\n",
       "    <tr>\n",
       "      <th>4</th>\n",
       "      <td>402000</td>\n",
       "      <td>11.43</td>\n",
       "    </tr>\n",
       "    <tr>\n",
       "      <th>...</th>\n",
       "      <td>...</td>\n",
       "      <td>...</td>\n",
       "    </tr>\n",
       "    <tr>\n",
       "      <th>388</th>\n",
       "      <td>499300</td>\n",
       "      <td>12.44</td>\n",
       "    </tr>\n",
       "    <tr>\n",
       "      <th>389</th>\n",
       "      <td>488100</td>\n",
       "      <td>12.45</td>\n",
       "    </tr>\n",
       "    <tr>\n",
       "      <th>390</th>\n",
       "      <td>488300</td>\n",
       "      <td>12.45</td>\n",
       "    </tr>\n",
       "    <tr>\n",
       "      <th>391</th>\n",
       "      <td>310300</td>\n",
       "      <td>12.45</td>\n",
       "    </tr>\n",
       "    <tr>\n",
       "      <th>392</th>\n",
       "      <td>310200</td>\n",
       "      <td>12.46</td>\n",
       "    </tr>\n",
       "  </tbody>\n",
       "</table>\n",
       "<p>393 rows × 2 columns</p>\n",
       "</div>"
      ],
      "text/plain": [
       "     CensusTract   PM25\n",
       "0         401100  11.25\n",
       "1         406000  11.31\n",
       "2         401200  11.36\n",
       "3         401300  11.41\n",
       "4         402000  11.43\n",
       "..           ...    ...\n",
       "388       499300  12.44\n",
       "389       488100  12.45\n",
       "390       488300  12.45\n",
       "391       310300  12.45\n",
       "392       310200  12.46\n",
       "\n",
       "[393 rows x 2 columns]"
      ]
     },
     "metadata": {},
     "output_type": "display_data"
    }
   ],
   "source": [
    "#imports\n",
    "import pandas as pd\n",
    "#loading raw data into table\n",
    "data = pd.read_csv('https://data.wprdc.org/dataset/7c0c0ed2-b542-4f5c-868a-49609985faab/resource/d281efe0-62d9-4c2b-b41f-bb99fcbec705/download/pm2.52011ct.csv')\n",
    "pm25_stats = data.groupby('CensusTract').sum()['PM25']#seperating data\n",
    "df = pd.DataFrame(pm25_stats.sort_values(ascending=True))\n",
    "df.reset_index(inplace=True)\n",
    "df.columns = ['CensusTract', 'PM25']\n",
    "df['PM25'] = df['PM25'].apply(lambda x: '{:,.2f}'.format(x)) #formatting PM25 values with comma separator and 2 decimal places\n",
    "\n",
    "#displaying the DataFrame\n",
    "display(df)"
   ]
  },
  {
   "cell_type": "code",
   "execution_count": 14,
   "metadata": {},
   "outputs": [
    {
     "data": {
      "image/png": "[encoded data removed]",
      "text/plain": [
       "<Figure size 432x288 with 1 Axes>"
      ]
     },
     "metadata": {
      "needs_background": "light"
     },
     "output_type": "display_data"
    }
   ],
   "source": [
    "import matplotlib.pyplot as plt\n",
    "\n",
    "# read the csv file\n",
    "data = pd.read_csv(\"https://data.wprdc.org/dataset/7c0c0ed2-b542-4f5c-868a-49609985faab/resource/d281efe0-62d9-4c2b-b41f-bb99fcbec705/download/pm2.52011ct.csv\")\n",
    "\n",
    "# create a figure and axis object\n",
    "fig, ax = plt.subplots()\n",
    "\n",
    "# plot the data\n",
    "ax.plot(data['CensusTract'], data['PM25'])\n",
    "\n",
    "# set the axis labels and title\n",
    "ax.set_xlabel('Region')\n",
    "ax.set_ylabel('Daily Mean PM2.5 Concentration (µg/m³)')\n",
    "ax.set_title('Daily Mean PM2.5 Concentration in Pittsburgh, 2011')\n",
    "\n",
    "# display the plot\n",
    "plt.show()"
   ]
  },
  {
   "cell_type": "markdown",
   "metadata": {},
   "source": [
    "Th"
   ]
  }
 ],
 "metadata": {
  "kernelspec": {
   "display_name": "Python 3",
   "language": "python",
   "name": "python3"
  },
  "language_info": {
   "codemirror_mode": {
    "name": "ipython",
    "version": 3
   },
   "file_extension": ".py",
   "mimetype": "text/x-python",
   "name": "python",
   "nbconvert_exporter": "python",
   "pygments_lexer": "ipython3",
   "version": "3.8.3"
  }
 },
 "nbformat": 4,
 "nbformat_minor": 4
}
