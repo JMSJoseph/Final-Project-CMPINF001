{
 "cells": [
  {
   "cell_type": "markdown",
   "metadata": {},
   "source": [
    "# Joe S Sub-Metric Notebook"
   ]
  },
  {
   "cell_type": "markdown",
   "metadata": {},
   "source": [
    "## Introduction "
   ]
  },
  {
   "cell_type": "markdown",
   "metadata": {},
   "source": [
    "The goal of the project is to find the best neighborhood in Pittsburgh.  I at first was going to just use the numbers of arrests but I realized that is biased towards smaller cities, also the data is over 7 years"
   ]
  },
  {
   "cell_type": "markdown",
   "metadata": {},
   "source": [
    "therefore it is a better metric to average the data and divide it by population."
   ]
  },
  {
   "cell_type": "markdown",
   "metadata": {},
   "source": [
    "## Sub-Metric"
   ]
  },
  {
   "cell_type": "markdown",
   "metadata": {},
   "source": [
    "(Arrest Count/7)/(Population)"
   ]
  },
  {
   "cell_type": "markdown",
   "metadata": {},
   "source": [
    "Population Data From: https://data.wprdc.org/dataset/2020-census-redistricting-data-extracts/resource/a8414ed5-c50f-417e-bb67-82b734660da6, revised into a smaller chart by me\n"
   ]
  },
  {
   "cell_type": "markdown",
   "metadata": {},
   "source": [
    "Data: https://data.wprdc.org/dataset/arrest-data/resource/e03a89dd-134a-4ee8-a2bd-62c40aeebc6f"
   ]
  },
  {
   "cell_type": "markdown",
   "metadata": {},
   "source": [
    "Looking at the neighboorhood with the least arrests per population"
   ]
  },
  {
   "cell_type": "markdown",
   "metadata": {},
   "source": [
    "## Code"
   ]
  },
  {
   "cell_type": "code",
   "execution_count": 91,
   "metadata": {},
   "outputs": [
    {
     "data": {
      "image/png": "[encoded data removed]",
      "text/plain": [
       "<Figure size 864x432 with 1 Axes>"
      ]
     },
     "metadata": {
      "needs_background": "light"
     },
     "output_type": "display_data"
    },
    {
     "data": {
      "text/html": [
       "<div>\n",
       "<style scoped>\n",
       "    .dataframe tbody tr th:only-of-type {\n",
       "        vertical-align: middle;\n",
       "    }\n",
       "\n",
       "    .dataframe tbody tr th {\n",
       "        vertical-align: top;\n",
       "    }\n",
       "\n",
       "    .dataframe thead th {\n",
       "        text-align: right;\n",
       "    }\n",
       "</style>\n",
       "<table border=\"1\" class=\"dataframe\">\n",
       "  <thead>\n",
       "    <tr style=\"text-align: right;\">\n",
       "      <th></th>\n",
       "      <th>neighborhood</th>\n",
       "      <th>arrest rate</th>\n",
       "    </tr>\n",
       "  </thead>\n",
       "  <tbody>\n",
       "    <tr>\n",
       "      <th>36</th>\n",
       "      <td>Golden Triangle/Civic Arena</td>\n",
       "      <td>0.227978</td>\n",
       "    </tr>\n",
       "    <tr>\n",
       "      <th>76</th>\n",
       "      <td>Squirrel Hill North</td>\n",
       "      <td>0.338190</td>\n",
       "    </tr>\n",
       "    <tr>\n",
       "      <th>82</th>\n",
       "      <td>Swisshelm Park</td>\n",
       "      <td>0.419859</td>\n",
       "    </tr>\n",
       "    <tr>\n",
       "      <th>66</th>\n",
       "      <td>Regent Square</td>\n",
       "      <td>0.538793</td>\n",
       "    </tr>\n",
       "    <tr>\n",
       "      <th>56</th>\n",
       "      <td>North Oakland</td>\n",
       "      <td>0.553773</td>\n",
       "    </tr>\n",
       "    <tr>\n",
       "      <th>55</th>\n",
       "      <td>New Homestead</td>\n",
       "      <td>0.562771</td>\n",
       "    </tr>\n",
       "    <tr>\n",
       "      <th>79</th>\n",
       "      <td>Stanton Heights</td>\n",
       "      <td>0.652032</td>\n",
       "    </tr>\n",
       "    <tr>\n",
       "      <th>77</th>\n",
       "      <td>Squirrel Hill South</td>\n",
       "      <td>0.728940</td>\n",
       "    </tr>\n",
       "    <tr>\n",
       "      <th>52</th>\n",
       "      <td>Morningside</td>\n",
       "      <td>0.768508</td>\n",
       "    </tr>\n",
       "    <tr>\n",
       "      <th>63</th>\n",
       "      <td>Point Breeze</td>\n",
       "      <td>0.771402</td>\n",
       "    </tr>\n",
       "  </tbody>\n",
       "</table>\n",
       "</div>"
      ],
      "text/plain": [
       "                   neighborhood  arrest rate\n",
       "36  Golden Triangle/Civic Arena     0.227978\n",
       "76          Squirrel Hill North     0.338190\n",
       "82               Swisshelm Park     0.419859\n",
       "66                Regent Square     0.538793\n",
       "56                North Oakland     0.553773\n",
       "55                New Homestead     0.562771\n",
       "79              Stanton Heights     0.652032\n",
       "77          Squirrel Hill South     0.728940\n",
       "52                  Morningside     0.768508\n",
       "63                 Point Breeze     0.771402"
      ]
     },
     "execution_count": 91,
     "metadata": {},
     "output_type": "execute_result"
    }
   ],
   "source": [
    "import pandas as pd\n",
    "import matplotlib.pyplot as plt #import statements\n",
    "police = pd.read_csv(\"police.csv\") #read arrest data\n",
    "arrests_by_city = police.groupby('INCIDENTNEIGHBORHOOD')['PK'].count() #groupby neightboorhood/accidently put city\n",
    "arrests_df = pd.DataFrame({'neighborhood': arrests_by_city.index, 'count': arrests_by_city.values}) #new data frame of just count and neighborhood\n",
    "arrests_df = arrests_df.drop(labels=[63,64,65], axis=0) #removing out of city, out of country, and out of state\n",
    "arrests_df.loc[54, \"count\"] += arrests_df.loc[56, \"count\"] #Combining to agree with population csv\n",
    "arrests_df.loc[54, \"count\"] += arrests_df.loc[57, \"count\"]\n",
    "arrests_df.loc[90, \"count\"] += arrests_df.loc[91, \"count\"]\n",
    "arrests_df.loc[18, \"count\"] += arrests_df.loc[19, \"count\"]\n",
    "arrests_df.loc[54, \"neighborhood\"] = \"Mount Oliver + Mt. Oliver Neighborhood:\" #Renaming to agree with population csv\n",
    "arrests_df.loc[90, \"neighborhood\"] = \"Troy Hill + Troy Hill-Herrs Island:\"\n",
    "arrests_df.loc[18, \"neighborhood\"] = \"Central Northside + Central North Side:\"\n",
    "arrests_df = arrests_df.drop(labels=[56,57,91,19], axis=0) #Dropping the extra\n",
    "population_df = pd.read_csv(\"populations.csv\") #read pop data\n",
    "population_df.rename(columns={\"City\": \"neighborhood\"}, inplace=True) #Renaming to agree with arrests\n",
    "population_df.rename(columns={\"Population\": \"population\"}, inplace=True) #Vanity things\n",
    "merged_df = arrests_df.merge(population_df, on=\"neighborhood\") #Merge the sets\n",
    "merged_df[\"average arrests per year\"] = merged_df[\"count\"] / 7 #Calculating metric\n",
    "merged_df[\"arrest rate\"] = (merged_df[\"average arrests per year\"] / merged_df[\"population\"]) * 100\n",
    "only_rates = merged_df[[\"neighborhood\", \"arrest rate\"]] #df of only the rate and neighborhood\n",
    "only_rates = only_rates.sort_values(by=\"arrest rate\").head(10) #top ten for plot\n",
    "fig, ax = plt.subplots(figsize=(12, 6)) #creating plot\n",
    "ax.bar(only_rates[\"neighborhood\"], only_rates[\"arrest rate\"]) #setting bars\n",
    "ax.set_xticklabels(only_rates[\"neighborhood\"], rotation=90) #adding labels and ticks\n",
    "ax.set_ylabel(\"Arrest Rate\")\n",
    "ax.set_xlabel(\"Neighborhood\")\n",
    "ax.set_title(\"Arrest Rates by City (Top 10)\") #title\n",
    "plt.show() #graph\n",
    "only_rates.head(10) #output top ten table\n"
   ]
  },
  {
   "cell_type": "markdown",
   "metadata": {},
   "source": [
    "## Best Neighborhood and Conclusion"
   ]
  },
  {
   "cell_type": "markdown",
   "metadata": {},
   "source": [
    "By just looking at the results the best neighborhood seems to be the Golden Triangle/Civic Arena area."
   ]
  },
  {
   "cell_type": "markdown",
   "metadata": {},
   "source": [
    "However, at the moment this result is just one submetric found by me.  I need to compare with my group members to find the best of all submetrics."
   ]
  },
  {
   "cell_type": "markdown",
   "metadata": {},
   "source": [
    "This data also may be biased as arrests don't always end in a conviction and could have wrongfully accused people."
   ]
  },
  {
   "cell_type": "code",
   "execution_count": null,
   "metadata": {},
   "outputs": [],
   "source": []
  }
 ],
 "metadata": {
  "kernelspec": {
   "display_name": "Python 3",
   "language": "python",
   "name": "python3"
  },
  "language_info": {
   "codemirror_mode": {
    "name": "ipython",
    "version": 3
   },
   "file_extension": ".py",
   "mimetype": "text/x-python",
   "name": "python",
   "nbconvert_exporter": "python",
   "pygments_lexer": "ipython3",
   "version": "3.8.3"
  }
 },
 "nbformat": 4,
 "nbformat_minor": 4
}
