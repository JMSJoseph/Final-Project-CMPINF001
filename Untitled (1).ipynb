{
 "cells": [
  {
   "cell_type": "markdown",
   "metadata": {},
   "source": [
    "Introduction: https://www.alleghenycounty.us/uploadedFiles/Allegheny_Home/Health_Department/Resources/Data_and_Reporting/Air_Quality_Reports/2021_AQ_Annual_Review.pdf\n",
    "<br/><br/> The best air quality will be used to help determine the safest neighbourhood in Pittsburgh. \n",
    "\n",
    "Air quality is determined by the amount of possibly dangerous chemicals and/or pollutants found in each measured region of Pittsburgh. The sensors are located in each township of\n",
    "Alleghany county.\n",
    "\n",
    "Air pollution is caused by human activity that creates harmful chemicals for humans to breathe. Whether it be industry, open burning (outdoor grilling, bonfires, etc), \n",
    "high-motor-traffic areas. Regions will be judged based on how much these activities and operations effect the air quality. Air quality can also be changed by the \n",
    "amount of air circulation each region has, this would be affected by population density (large buildings, clusters).\n",
    "\n",
    "The effects of poor air quality can be severe, it can lead to irritation of the sensitive areas(throat, nose, eyes, lungs); it can lead to cardiovascular and respitory illnessess:\n",
    "asthma, heart disease, and emphysema; and in severe cases even cancer: lung cancer, liver cancer.\n",
    "\n",
    "Analysis and Conclusion:\n",
    "<br/><br/>From the data shown below, we can see that areas further from the city have better air quality. This is not a suprise, due to the lack of industrial, commercial, and other activities that create air pollutants. These areas are also much less densly populated, this shows that our assumptions about air flow are also applicable. We can conclude that the best air quality in Alleghany county is in census tract 4011, Harrison Township, making it the safest neighborhood in Alleghany County/Pittsburgh. "
   ]
  },
  {
   "cell_type": "markdown",
   "metadata": {},
   "source": [
    "**Data:** https://www.alleghenycounty.us/uploadedFiles/Allegheny_Home/Health_Department/Resources/Data_and_Reporting/Air_Quality_Reports/2021-data-summary.pdf <br/><br/>\n",
    "The monitor results below show the concentration of PM2.5 (particle matter above 2.5 micro meters) within the air of each region."
   ]
  },
  {
   "cell_type": "markdown",
   "metadata": {},
   "source": [
    "**PM2.5 By Town in Alleghany County**"
   ]
  },
  {
   "cell_type": "code",
   "execution_count": 22,
   "metadata": {},
   "outputs": [
    {
     "data": {
      "text/plain": [
       "CensusTract\n",
       "401100    11.251282\n",
       "406000    11.311841\n",
       "401200    11.357173\n",
       "401300    11.407247\n",
       "402000    11.433118\n",
       "            ...    \n",
       "499300    12.440323\n",
       "488100    12.446208\n",
       "488300    12.450951\n",
       "310300    12.452951\n",
       "310200    12.455896\n",
       "Name: PM25, Length: 393, dtype: float64"
      ]
     },
     "execution_count": 22,
     "metadata": {},
     "output_type": "execute_result"
    }
   ],
   "source": [
    "#imports\n",
    "import pandas as pd\n",
    "#loading raw data into table\n",
    "data = pd.read_csv('https://data.wprdc.org/dataset/7c0c0ed2-b542-4f5c-868a-49609985faab/resource/d281efe0-62d9-4c2b-b41f-bb99fcbec705/download/pm2.52011ct.csv')\n",
    "pm25_stats = data.groupby('CensusTract').sum()['PM25']#seperating data\n",
    "pm25_stats.sort_values(ascending = True)#ordering data"
   ]
  }
 ],
 "metadata": {
  "kernelspec": {
   "display_name": "Python 3",
   "language": "python",
   "name": "python3"
  },
  "language_info": {
   "codemirror_mode": {
    "name": "ipython",
    "version": 3
   },
   "file_extension": ".py",
   "mimetype": "text/x-python",
   "name": "python",
   "nbconvert_exporter": "python",
   "pygments_lexer": "ipython3",
   "version": "3.8.3"
  }
 },
 "nbformat": 4,
 "nbformat_minor": 4
}
